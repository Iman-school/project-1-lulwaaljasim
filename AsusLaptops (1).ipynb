{
 "cells": [
  {
   "cell_type": "markdown",
   "id": "2af55415",
   "metadata": {},
   "source": [
    "# Asus Laptops Jun 2020"
   ]
  },
  {
   "cell_type": "markdown",
   "id": "7390a4cb",
   "metadata": {},
   "source": [
    "Sorting data based on prices and putting 'category' and 'warrenty' into the same gragh and finding the gragh to all columns"
   ]
  },
  {
   "cell_type": "code",
   "execution_count": 1,
   "id": "fc3c2487",
   "metadata": {},
   "outputs": [],
   "source": [
    "import numpy as np\n",
    "import pandas as pd"
   ]
  },
  {
   "cell_type": "code",
   "execution_count": 2,
   "id": "53f1ffdd",
   "metadata": {},
   "outputs": [
    {
     "data": {
      "text/html": [
       "<div>\n",
       "<style scoped>\n",
       "    .dataframe tbody tr th:only-of-type {\n",
       "        vertical-align: middle;\n",
       "    }\n",
       "\n",
       "    .dataframe tbody tr th {\n",
       "        vertical-align: top;\n",
       "    }\n",
       "\n",
       "    .dataframe thead th {\n",
       "        text-align: right;\n",
       "    }\n",
       "</style>\n",
       "<table border=\"1\" class=\"dataframe\">\n",
       "  <thead>\n",
       "    <tr style=\"text-align: right;\">\n",
       "      <th></th>\n",
       "      <th>Unnamed: 0</th>\n",
       "      <th>Category</th>\n",
       "      <th>Series</th>\n",
       "      <th>ModelName</th>\n",
       "      <th>Colour&amp;Chassis</th>\n",
       "      <th>Description</th>\n",
       "      <th>Warrenty</th>\n",
       "      <th>MRP</th>\n",
       "    </tr>\n",
       "  </thead>\n",
       "  <tbody>\n",
       "    <tr>\n",
       "      <th>0</th>\n",
       "      <td>0</td>\n",
       "      <td>Premium</td>\n",
       "      <td>TUF Gaming</td>\n",
       "      <td>FX505DT-AL118T</td>\n",
       "      <td>GUN METAL</td>\n",
       "      <td>R5-3550H +GTX 1650-4GB +8GB +512GB PCIE SSD +1...</td>\n",
       "      <td>1Y</td>\n",
       "      <td>77990</td>\n",
       "    </tr>\n",
       "    <tr>\n",
       "      <th>1</th>\n",
       "      <td>1</td>\n",
       "      <td>Premium</td>\n",
       "      <td>TUF Gaming</td>\n",
       "      <td>FX705DT-AU092T</td>\n",
       "      <td>BLACK PLASTIC</td>\n",
       "      <td>R5-3550H +GTX 1650-4GB +8GB +512GB PCIE SSD +1...</td>\n",
       "      <td>1Y</td>\n",
       "      <td>80990</td>\n",
       "    </tr>\n",
       "    <tr>\n",
       "      <th>2</th>\n",
       "      <td>2</td>\n",
       "      <td>Premium</td>\n",
       "      <td>TUF Gaming</td>\n",
       "      <td>FX705DT-AU016T</td>\n",
       "      <td>GUN METAL</td>\n",
       "      <td>R7-3750H +GTX 1650-4GB +8GB +512GB PCIE SSD +1...</td>\n",
       "      <td>1Y</td>\n",
       "      <td>94990</td>\n",
       "    </tr>\n",
       "    <tr>\n",
       "      <th>3</th>\n",
       "      <td>3</td>\n",
       "      <td>Platinum</td>\n",
       "      <td>ROG-Strix G</td>\n",
       "      <td>G531GT-BQ002T</td>\n",
       "      <td>BLACK W+LIGHTBAR</td>\n",
       "      <td>i5-9300H +GTX 1650-4GB +8GB +512GB PCIE SSD +1...</td>\n",
       "      <td>1Y</td>\n",
       "      <td>97990</td>\n",
       "    </tr>\n",
       "    <tr>\n",
       "      <th>4</th>\n",
       "      <td>4</td>\n",
       "      <td>Platinum</td>\n",
       "      <td>ROG-Strix G</td>\n",
       "      <td>G531GT-AL264T</td>\n",
       "      <td>1F-G Glacier Blue W+ Lightbar</td>\n",
       "      <td>i5-9300H +GTX1650-4GB +8GB +512GB PCIE SSD +15...</td>\n",
       "      <td>1Y</td>\n",
       "      <td>98990</td>\n",
       "    </tr>\n",
       "    <tr>\n",
       "      <th>5</th>\n",
       "      <td>5</td>\n",
       "      <td>Premium</td>\n",
       "      <td>TUF Gaming</td>\n",
       "      <td>FX505DY-BQ024T</td>\n",
       "      <td>BLACK PLASTIC</td>\n",
       "      <td>R5-3550H +RX560X-4GB +8GB +512GB PCIE SSD +15....</td>\n",
       "      <td>1Y</td>\n",
       "      <td>67990</td>\n",
       "    </tr>\n",
       "    <tr>\n",
       "      <th>6</th>\n",
       "      <td>6</td>\n",
       "      <td>Premium</td>\n",
       "      <td>TUF Gaming</td>\n",
       "      <td>FX505GM-BQ344T</td>\n",
       "      <td>1C Black</td>\n",
       "      <td>I5-8300H +GTX1060-6GB +8GB +512GB PCIE SSD +15...</td>\n",
       "      <td>1Y</td>\n",
       "      <td>79990</td>\n",
       "    </tr>\n",
       "    <tr>\n",
       "      <th>7</th>\n",
       "      <td>7</td>\n",
       "      <td>Premium</td>\n",
       "      <td>TUF Gaming</td>\n",
       "      <td>FX505GT-AL003T</td>\n",
       "      <td>2A-METAL TANK GREY</td>\n",
       "      <td>i5-9300H +GTX1650-4GB +8GB +512GB PCIE SSD +15...</td>\n",
       "      <td>1Y</td>\n",
       "      <td>90990</td>\n",
       "    </tr>\n",
       "    <tr>\n",
       "      <th>8</th>\n",
       "      <td>8</td>\n",
       "      <td>Premium</td>\n",
       "      <td>TUF Gaming</td>\n",
       "      <td>FX505GT-AL007T</td>\n",
       "      <td>METAL TANK GREY</td>\n",
       "      <td>i7-9750H +GTX 1650-4GB +16GB +512GB PCIE SSD +...</td>\n",
       "      <td>1Y</td>\n",
       "      <td>109990</td>\n",
       "    </tr>\n",
       "    <tr>\n",
       "      <th>9</th>\n",
       "      <td>9</td>\n",
       "      <td>Premium</td>\n",
       "      <td>TUF Gaming</td>\n",
       "      <td>FX505GT-BQ006T</td>\n",
       "      <td>METAL TANK GREY</td>\n",
       "      <td>i5-9300H +GTX 1650-4GB +8GB +512GB PCIE SSD +1...</td>\n",
       "      <td>1Y</td>\n",
       "      <td>89990</td>\n",
       "    </tr>\n",
       "    <tr>\n",
       "      <th>10</th>\n",
       "      <td>10</td>\n",
       "      <td>Premium</td>\n",
       "      <td>TUF Gaming</td>\n",
       "      <td>FX705DD-AU055T</td>\n",
       "      <td>BLACK PLASTIC</td>\n",
       "      <td>R5-3550H +GTX 1050-3GB +8GB +1TB HDD +17.3'+60...</td>\n",
       "      <td>1Y</td>\n",
       "      <td>72990</td>\n",
       "    </tr>\n",
       "    <tr>\n",
       "      <th>11</th>\n",
       "      <td>11</td>\n",
       "      <td>NO</td>\n",
       "      <td>ROG-Strix G</td>\n",
       "      <td>G531GT-AL017T</td>\n",
       "      <td>BLACK W+LIGHTBAR</td>\n",
       "      <td>i7-9750H +GTX 1650-4GB +8GB +512GB PCIE SSD +1...</td>\n",
       "      <td>1Y</td>\n",
       "      <td>110990</td>\n",
       "    </tr>\n",
       "    <tr>\n",
       "      <th>12</th>\n",
       "      <td>12</td>\n",
       "      <td>NO</td>\n",
       "      <td>ROG-Strix G</td>\n",
       "      <td>G531GT-AL018T</td>\n",
       "      <td>BLACK W+LIGHTBAR</td>\n",
       "      <td>i7-9750H +GTX 1650-4GB +16GB +512GB PCIE SSD +...</td>\n",
       "      <td>1Y</td>\n",
       "      <td>116990</td>\n",
       "    </tr>\n",
       "    <tr>\n",
       "      <th>13</th>\n",
       "      <td>13</td>\n",
       "      <td>NO</td>\n",
       "      <td>ROG-Strix G</td>\n",
       "      <td>G531GD-BQ036T</td>\n",
       "      <td>BLACK W+LIGHTBAR</td>\n",
       "      <td>i5-9300H +GTX 1050-4GB +8GB +1TB SSHD(FireCuda...</td>\n",
       "      <td>1Y</td>\n",
       "      <td>77990</td>\n",
       "    </tr>\n",
       "    <tr>\n",
       "      <th>14</th>\n",
       "      <td>14</td>\n",
       "      <td>Premium</td>\n",
       "      <td>TUF Gaming</td>\n",
       "      <td>FX505DV-AL026T</td>\n",
       "      <td>GUN METAL</td>\n",
       "      <td>R7-3750H +RTX2060-6GB +16GB +512GB PCIE SSD +1...</td>\n",
       "      <td>1Y</td>\n",
       "      <td>123990</td>\n",
       "    </tr>\n",
       "    <tr>\n",
       "      <th>15</th>\n",
       "      <td>15</td>\n",
       "      <td>NO</td>\n",
       "      <td>ROG-Strix G</td>\n",
       "      <td>G531GT-BQ024T</td>\n",
       "      <td>BLACK W+LIGHTBAR</td>\n",
       "      <td>i5-9300H +GTX 1650-4GB +8GB +1TB SSHD(FireCuda...</td>\n",
       "      <td>1Y</td>\n",
       "      <td>100990</td>\n",
       "    </tr>\n",
       "    <tr>\n",
       "      <th>16</th>\n",
       "      <td>16</td>\n",
       "      <td>Premium</td>\n",
       "      <td>TUF Gaming</td>\n",
       "      <td>FX705DY-AU072T</td>\n",
       "      <td>1B-BLACK PLASTIC</td>\n",
       "      <td>R5-3550H +RX560X-4GB +8GB +512GB PCIE SSD +17....</td>\n",
       "      <td>1Y</td>\n",
       "      <td>71990</td>\n",
       "    </tr>\n",
       "    <tr>\n",
       "      <th>17</th>\n",
       "      <td>17</td>\n",
       "      <td>NO</td>\n",
       "      <td>ROG-Strix G</td>\n",
       "      <td>G531GT-BQ124T</td>\n",
       "      <td>BLACK W+LIGHTBAR+</td>\n",
       "      <td>i5-9300H+ GTX1650+ 8G+ 1T SSD+ 15.6 FHD-60hz+ ...</td>\n",
       "      <td>1Y</td>\n",
       "      <td>101990</td>\n",
       "    </tr>\n",
       "    <tr>\n",
       "      <th>18</th>\n",
       "      <td>18</td>\n",
       "      <td>Premium</td>\n",
       "      <td>TUF Gaming</td>\n",
       "      <td>FX705DT-AU028T</td>\n",
       "      <td>BLACK PLASTIC</td>\n",
       "      <td>R7-3750H +GTX 1650-4GB +8GB +512GB PCIE SSD +1...</td>\n",
       "      <td>1Y</td>\n",
       "      <td>90990</td>\n",
       "    </tr>\n",
       "    <tr>\n",
       "      <th>19</th>\n",
       "      <td>19</td>\n",
       "      <td>Platinum</td>\n",
       "      <td>ROG-Strix Scar III</td>\n",
       "      <td>G531GU-ES016T</td>\n",
       "      <td>SCAR Gunmetal</td>\n",
       "      <td>i7-9750H +GTX 1660Ti-6GB +16GB +1TB PCIE SSD +...</td>\n",
       "      <td>1Y</td>\n",
       "      <td>188990</td>\n",
       "    </tr>\n",
       "  </tbody>\n",
       "</table>\n",
       "</div>"
      ],
      "text/plain": [
       "    Unnamed: 0  Category              Series       ModelName  \\\n",
       "0            0   Premium          TUF Gaming  FX505DT-AL118T   \n",
       "1            1   Premium          TUF Gaming  FX705DT-AU092T   \n",
       "2            2   Premium          TUF Gaming  FX705DT-AU016T   \n",
       "3            3  Platinum         ROG-Strix G   G531GT-BQ002T   \n",
       "4            4  Platinum         ROG-Strix G   G531GT-AL264T   \n",
       "5            5   Premium          TUF Gaming  FX505DY-BQ024T   \n",
       "6            6   Premium          TUF Gaming  FX505GM-BQ344T   \n",
       "7            7   Premium          TUF Gaming  FX505GT-AL003T   \n",
       "8            8   Premium          TUF Gaming  FX505GT-AL007T   \n",
       "9            9   Premium          TUF Gaming  FX505GT-BQ006T   \n",
       "10          10   Premium          TUF Gaming  FX705DD-AU055T   \n",
       "11          11        NO         ROG-Strix G   G531GT-AL017T   \n",
       "12          12        NO         ROG-Strix G   G531GT-AL018T   \n",
       "13          13        NO         ROG-Strix G   G531GD-BQ036T   \n",
       "14          14   Premium          TUF Gaming  FX505DV-AL026T   \n",
       "15          15        NO         ROG-Strix G   G531GT-BQ024T   \n",
       "16          16   Premium          TUF Gaming  FX705DY-AU072T   \n",
       "17          17        NO         ROG-Strix G   G531GT-BQ124T   \n",
       "18          18   Premium          TUF Gaming  FX705DT-AU028T   \n",
       "19          19  Platinum  ROG-Strix Scar III   G531GU-ES016T   \n",
       "\n",
       "                   Colour&Chassis  \\\n",
       "0                       GUN METAL   \n",
       "1                   BLACK PLASTIC   \n",
       "2                       GUN METAL   \n",
       "3                BLACK W+LIGHTBAR   \n",
       "4   1F-G Glacier Blue W+ Lightbar   \n",
       "5                   BLACK PLASTIC   \n",
       "6                        1C Black   \n",
       "7              2A-METAL TANK GREY   \n",
       "8                 METAL TANK GREY   \n",
       "9                 METAL TANK GREY   \n",
       "10                  BLACK PLASTIC   \n",
       "11               BLACK W+LIGHTBAR   \n",
       "12               BLACK W+LIGHTBAR   \n",
       "13               BLACK W+LIGHTBAR   \n",
       "14                      GUN METAL   \n",
       "15               BLACK W+LIGHTBAR   \n",
       "16               1B-BLACK PLASTIC   \n",
       "17              BLACK W+LIGHTBAR+   \n",
       "18                  BLACK PLASTIC   \n",
       "19                  SCAR Gunmetal   \n",
       "\n",
       "                                          Description Warrenty     MRP  \n",
       "0   R5-3550H +GTX 1650-4GB +8GB +512GB PCIE SSD +1...       1Y   77990  \n",
       "1   R5-3550H +GTX 1650-4GB +8GB +512GB PCIE SSD +1...       1Y   80990  \n",
       "2   R7-3750H +GTX 1650-4GB +8GB +512GB PCIE SSD +1...       1Y   94990  \n",
       "3   i5-9300H +GTX 1650-4GB +8GB +512GB PCIE SSD +1...       1Y   97990  \n",
       "4   i5-9300H +GTX1650-4GB +8GB +512GB PCIE SSD +15...       1Y   98990  \n",
       "5   R5-3550H +RX560X-4GB +8GB +512GB PCIE SSD +15....       1Y   67990  \n",
       "6   I5-8300H +GTX1060-6GB +8GB +512GB PCIE SSD +15...       1Y   79990  \n",
       "7   i5-9300H +GTX1650-4GB +8GB +512GB PCIE SSD +15...       1Y   90990  \n",
       "8   i7-9750H +GTX 1650-4GB +16GB +512GB PCIE SSD +...       1Y  109990  \n",
       "9   i5-9300H +GTX 1650-4GB +8GB +512GB PCIE SSD +1...       1Y   89990  \n",
       "10  R5-3550H +GTX 1050-3GB +8GB +1TB HDD +17.3'+60...       1Y   72990  \n",
       "11  i7-9750H +GTX 1650-4GB +8GB +512GB PCIE SSD +1...       1Y  110990  \n",
       "12  i7-9750H +GTX 1650-4GB +16GB +512GB PCIE SSD +...       1Y  116990  \n",
       "13  i5-9300H +GTX 1050-4GB +8GB +1TB SSHD(FireCuda...       1Y   77990  \n",
       "14  R7-3750H +RTX2060-6GB +16GB +512GB PCIE SSD +1...       1Y  123990  \n",
       "15  i5-9300H +GTX 1650-4GB +8GB +1TB SSHD(FireCuda...       1Y  100990  \n",
       "16  R5-3550H +RX560X-4GB +8GB +512GB PCIE SSD +17....       1Y   71990  \n",
       "17  i5-9300H+ GTX1650+ 8G+ 1T SSD+ 15.6 FHD-60hz+ ...       1Y  101990  \n",
       "18  R7-3750H +GTX 1650-4GB +8GB +512GB PCIE SSD +1...       1Y   90990  \n",
       "19  i7-9750H +GTX 1660Ti-6GB +16GB +1TB PCIE SSD +...       1Y  188990  "
      ]
     },
     "execution_count": 2,
     "metadata": {},
     "output_type": "execute_result"
    }
   ],
   "source": [
    "df = pd.read_csv('AsusLaptops.csv')\n",
    "df.head(20)"
   ]
  },
  {
   "cell_type": "code",
   "execution_count": 3,
   "id": "cfd75962",
   "metadata": {
    "scrolled": true
   },
   "outputs": [
    {
     "name": "stdout",
     "output_type": "stream",
     "text": [
      "<class 'pandas.core.frame.DataFrame'>\n",
      "RangeIndex: 93 entries, 0 to 92\n",
      "Data columns (total 8 columns):\n",
      " #   Column          Non-Null Count  Dtype \n",
      "---  ------          --------------  ----- \n",
      " 0   Unnamed: 0      93 non-null     int64 \n",
      " 1   Category        93 non-null     object\n",
      " 2   Series          93 non-null     object\n",
      " 3   ModelName       93 non-null     object\n",
      " 4   Colour&Chassis  93 non-null     object\n",
      " 5   Description     93 non-null     object\n",
      " 6   Warrenty        93 non-null     object\n",
      " 7   MRP             93 non-null     int64 \n",
      "dtypes: int64(2), object(6)\n",
      "memory usage: 5.9+ KB\n"
     ]
    }
   ],
   "source": [
    "df.info()"
   ]
  },
  {
   "cell_type": "markdown",
   "id": "947941fc",
   "metadata": {},
   "source": [
    "# Drop meaningful columns"
   ]
  },
  {
   "cell_type": "code",
   "execution_count": 4,
   "id": "066cabd9",
   "metadata": {},
   "outputs": [
    {
     "data": {
      "text/html": [
       "<div>\n",
       "<style scoped>\n",
       "    .dataframe tbody tr th:only-of-type {\n",
       "        vertical-align: middle;\n",
       "    }\n",
       "\n",
       "    .dataframe tbody tr th {\n",
       "        vertical-align: top;\n",
       "    }\n",
       "\n",
       "    .dataframe thead th {\n",
       "        text-align: right;\n",
       "    }\n",
       "</style>\n",
       "<table border=\"1\" class=\"dataframe\">\n",
       "  <thead>\n",
       "    <tr style=\"text-align: right;\">\n",
       "      <th></th>\n",
       "      <th>Unnamed: 0</th>\n",
       "      <th>Category</th>\n",
       "      <th>Series</th>\n",
       "      <th>ModelName</th>\n",
       "      <th>Colour&amp;Chassis</th>\n",
       "      <th>Description</th>\n",
       "      <th>Warrenty</th>\n",
       "      <th>MRP</th>\n",
       "    </tr>\n",
       "  </thead>\n",
       "  <tbody>\n",
       "    <tr>\n",
       "      <th>0</th>\n",
       "      <td>0</td>\n",
       "      <td>Premium</td>\n",
       "      <td>TUF Gaming</td>\n",
       "      <td>FX505DT-AL118T</td>\n",
       "      <td>GUN METAL</td>\n",
       "      <td>R5-3550H +GTX 1650-4GB +8GB +512GB PCIE SSD +1...</td>\n",
       "      <td>1Y</td>\n",
       "      <td>77990</td>\n",
       "    </tr>\n",
       "    <tr>\n",
       "      <th>1</th>\n",
       "      <td>1</td>\n",
       "      <td>Premium</td>\n",
       "      <td>TUF Gaming</td>\n",
       "      <td>FX705DT-AU092T</td>\n",
       "      <td>BLACK PLASTIC</td>\n",
       "      <td>R5-3550H +GTX 1650-4GB +8GB +512GB PCIE SSD +1...</td>\n",
       "      <td>1Y</td>\n",
       "      <td>80990</td>\n",
       "    </tr>\n",
       "    <tr>\n",
       "      <th>2</th>\n",
       "      <td>2</td>\n",
       "      <td>Premium</td>\n",
       "      <td>TUF Gaming</td>\n",
       "      <td>FX705DT-AU016T</td>\n",
       "      <td>GUN METAL</td>\n",
       "      <td>R7-3750H +GTX 1650-4GB +8GB +512GB PCIE SSD +1...</td>\n",
       "      <td>1Y</td>\n",
       "      <td>94990</td>\n",
       "    </tr>\n",
       "    <tr>\n",
       "      <th>3</th>\n",
       "      <td>3</td>\n",
       "      <td>Platinum</td>\n",
       "      <td>ROG-Strix G</td>\n",
       "      <td>G531GT-BQ002T</td>\n",
       "      <td>BLACK W+LIGHTBAR</td>\n",
       "      <td>i5-9300H +GTX 1650-4GB +8GB +512GB PCIE SSD +1...</td>\n",
       "      <td>1Y</td>\n",
       "      <td>97990</td>\n",
       "    </tr>\n",
       "    <tr>\n",
       "      <th>4</th>\n",
       "      <td>4</td>\n",
       "      <td>Platinum</td>\n",
       "      <td>ROG-Strix G</td>\n",
       "      <td>G531GT-AL264T</td>\n",
       "      <td>1F-G Glacier Blue W+ Lightbar</td>\n",
       "      <td>i5-9300H +GTX1650-4GB +8GB +512GB PCIE SSD +15...</td>\n",
       "      <td>1Y</td>\n",
       "      <td>98990</td>\n",
       "    </tr>\n",
       "  </tbody>\n",
       "</table>\n",
       "</div>"
      ],
      "text/plain": [
       "   Unnamed: 0  Category       Series       ModelName  \\\n",
       "0           0   Premium   TUF Gaming  FX505DT-AL118T   \n",
       "1           1   Premium   TUF Gaming  FX705DT-AU092T   \n",
       "2           2   Premium   TUF Gaming  FX705DT-AU016T   \n",
       "3           3  Platinum  ROG-Strix G   G531GT-BQ002T   \n",
       "4           4  Platinum  ROG-Strix G   G531GT-AL264T   \n",
       "\n",
       "                  Colour&Chassis  \\\n",
       "0                      GUN METAL   \n",
       "1                  BLACK PLASTIC   \n",
       "2                      GUN METAL   \n",
       "3               BLACK W+LIGHTBAR   \n",
       "4  1F-G Glacier Blue W+ Lightbar   \n",
       "\n",
       "                                         Description Warrenty    MRP  \n",
       "0  R5-3550H +GTX 1650-4GB +8GB +512GB PCIE SSD +1...       1Y  77990  \n",
       "1  R5-3550H +GTX 1650-4GB +8GB +512GB PCIE SSD +1...       1Y  80990  \n",
       "2  R7-3750H +GTX 1650-4GB +8GB +512GB PCIE SSD +1...       1Y  94990  \n",
       "3  i5-9300H +GTX 1650-4GB +8GB +512GB PCIE SSD +1...       1Y  97990  \n",
       "4  i5-9300H +GTX1650-4GB +8GB +512GB PCIE SSD +15...       1Y  98990  "
      ]
     },
     "execution_count": 4,
     "metadata": {},
     "output_type": "execute_result"
    }
   ],
   "source": [
    "asus_dataset = pd.read_csv('AsusLaptops.csv')\n",
    "asus_dataset.head(5)"
   ]
  },
  {
   "cell_type": "code",
   "execution_count": 5,
   "id": "28e9a596",
   "metadata": {},
   "outputs": [
    {
     "data": {
      "text/plain": [
       "Index(['Unnamed: 0', 'Category', 'Series', 'ModelName', 'Colour&Chassis',\n",
       "       'Description', 'Warrenty', 'MRP'],\n",
       "      dtype='object')"
      ]
     },
     "execution_count": 5,
     "metadata": {},
     "output_type": "execute_result"
    }
   ],
   "source": [
    "asus_dataset.columns"
   ]
  },
  {
   "cell_type": "code",
   "execution_count": 6,
   "id": "62d78eb6",
   "metadata": {},
   "outputs": [
    {
     "name": "stdout",
     "output_type": "stream",
     "text": [
      "there are 93 rows & 8 columns\n"
     ]
    }
   ],
   "source": [
    "nRow, nCol = asus_dataset.shape\n",
    "\n",
    "print(f\"there are {nRow} rows & {nCol} columns\")"
   ]
  },
  {
   "cell_type": "code",
   "execution_count": 7,
   "id": "f3e3a320",
   "metadata": {},
   "outputs": [
    {
     "data": {
      "text/html": [
       "<div>\n",
       "<style scoped>\n",
       "    .dataframe tbody tr th:only-of-type {\n",
       "        vertical-align: middle;\n",
       "    }\n",
       "\n",
       "    .dataframe tbody tr th {\n",
       "        vertical-align: top;\n",
       "    }\n",
       "\n",
       "    .dataframe thead th {\n",
       "        text-align: right;\n",
       "    }\n",
       "</style>\n",
       "<table border=\"1\" class=\"dataframe\">\n",
       "  <thead>\n",
       "    <tr style=\"text-align: right;\">\n",
       "      <th></th>\n",
       "      <th>Category</th>\n",
       "      <th>Series</th>\n",
       "      <th>ModelName</th>\n",
       "      <th>Colour&amp;Chassis</th>\n",
       "      <th>Description</th>\n",
       "      <th>Warrenty</th>\n",
       "      <th>MRP</th>\n",
       "    </tr>\n",
       "  </thead>\n",
       "  <tbody>\n",
       "    <tr>\n",
       "      <th>0</th>\n",
       "      <td>Premium</td>\n",
       "      <td>TUF Gaming</td>\n",
       "      <td>FX505DT-AL118T</td>\n",
       "      <td>GUN METAL</td>\n",
       "      <td>R5-3550H +GTX 1650-4GB +8GB +512GB PCIE SSD +1...</td>\n",
       "      <td>1Y</td>\n",
       "      <td>77990</td>\n",
       "    </tr>\n",
       "    <tr>\n",
       "      <th>1</th>\n",
       "      <td>Premium</td>\n",
       "      <td>TUF Gaming</td>\n",
       "      <td>FX705DT-AU092T</td>\n",
       "      <td>BLACK PLASTIC</td>\n",
       "      <td>R5-3550H +GTX 1650-4GB +8GB +512GB PCIE SSD +1...</td>\n",
       "      <td>1Y</td>\n",
       "      <td>80990</td>\n",
       "    </tr>\n",
       "    <tr>\n",
       "      <th>2</th>\n",
       "      <td>Premium</td>\n",
       "      <td>TUF Gaming</td>\n",
       "      <td>FX705DT-AU016T</td>\n",
       "      <td>GUN METAL</td>\n",
       "      <td>R7-3750H +GTX 1650-4GB +8GB +512GB PCIE SSD +1...</td>\n",
       "      <td>1Y</td>\n",
       "      <td>94990</td>\n",
       "    </tr>\n",
       "    <tr>\n",
       "      <th>3</th>\n",
       "      <td>Platinum</td>\n",
       "      <td>ROG-Strix G</td>\n",
       "      <td>G531GT-BQ002T</td>\n",
       "      <td>BLACK W+LIGHTBAR</td>\n",
       "      <td>i5-9300H +GTX 1650-4GB +8GB +512GB PCIE SSD +1...</td>\n",
       "      <td>1Y</td>\n",
       "      <td>97990</td>\n",
       "    </tr>\n",
       "    <tr>\n",
       "      <th>4</th>\n",
       "      <td>Platinum</td>\n",
       "      <td>ROG-Strix G</td>\n",
       "      <td>G531GT-AL264T</td>\n",
       "      <td>1F-G Glacier Blue W+ Lightbar</td>\n",
       "      <td>i5-9300H +GTX1650-4GB +8GB +512GB PCIE SSD +15...</td>\n",
       "      <td>1Y</td>\n",
       "      <td>98990</td>\n",
       "    </tr>\n",
       "  </tbody>\n",
       "</table>\n",
       "</div>"
      ],
      "text/plain": [
       "   Category       Series       ModelName                 Colour&Chassis  \\\n",
       "0   Premium   TUF Gaming  FX505DT-AL118T                      GUN METAL   \n",
       "1   Premium   TUF Gaming  FX705DT-AU092T                  BLACK PLASTIC   \n",
       "2   Premium   TUF Gaming  FX705DT-AU016T                      GUN METAL   \n",
       "3  Platinum  ROG-Strix G   G531GT-BQ002T               BLACK W+LIGHTBAR   \n",
       "4  Platinum  ROG-Strix G   G531GT-AL264T  1F-G Glacier Blue W+ Lightbar   \n",
       "\n",
       "                                         Description Warrenty    MRP  \n",
       "0  R5-3550H +GTX 1650-4GB +8GB +512GB PCIE SSD +1...       1Y  77990  \n",
       "1  R5-3550H +GTX 1650-4GB +8GB +512GB PCIE SSD +1...       1Y  80990  \n",
       "2  R7-3750H +GTX 1650-4GB +8GB +512GB PCIE SSD +1...       1Y  94990  \n",
       "3  i5-9300H +GTX 1650-4GB +8GB +512GB PCIE SSD +1...       1Y  97990  \n",
       "4  i5-9300H +GTX1650-4GB +8GB +512GB PCIE SSD +15...       1Y  98990  "
      ]
     },
     "execution_count": 7,
     "metadata": {},
     "output_type": "execute_result"
    }
   ],
   "source": [
    "new_asus_data = asus_dataset.drop('Unnamed: 0',axis = 1)\n",
    "new_asus_data.head(5)"
   ]
  },
  {
   "cell_type": "markdown",
   "id": "3b93497d",
   "metadata": {},
   "source": [
    "# Change Column names to lowercase"
   ]
  },
  {
   "cell_type": "code",
   "execution_count": 8,
   "id": "f4335119",
   "metadata": {},
   "outputs": [
    {
     "data": {
      "text/html": [
       "<div>\n",
       "<style scoped>\n",
       "    .dataframe tbody tr th:only-of-type {\n",
       "        vertical-align: middle;\n",
       "    }\n",
       "\n",
       "    .dataframe tbody tr th {\n",
       "        vertical-align: top;\n",
       "    }\n",
       "\n",
       "    .dataframe thead th {\n",
       "        text-align: right;\n",
       "    }\n",
       "</style>\n",
       "<table border=\"1\" class=\"dataframe\">\n",
       "  <thead>\n",
       "    <tr style=\"text-align: right;\">\n",
       "      <th></th>\n",
       "      <th>category</th>\n",
       "      <th>series</th>\n",
       "      <th>modelname</th>\n",
       "      <th>colour&amp;chassis</th>\n",
       "      <th>description</th>\n",
       "      <th>warrenty</th>\n",
       "      <th>mrp</th>\n",
       "    </tr>\n",
       "  </thead>\n",
       "  <tbody>\n",
       "    <tr>\n",
       "      <th>0</th>\n",
       "      <td>Premium</td>\n",
       "      <td>TUF Gaming</td>\n",
       "      <td>FX505DT-AL118T</td>\n",
       "      <td>GUN METAL</td>\n",
       "      <td>R5-3550H +GTX 1650-4GB +8GB +512GB PCIE SSD +1...</td>\n",
       "      <td>1Y</td>\n",
       "      <td>77990</td>\n",
       "    </tr>\n",
       "    <tr>\n",
       "      <th>1</th>\n",
       "      <td>Premium</td>\n",
       "      <td>TUF Gaming</td>\n",
       "      <td>FX705DT-AU092T</td>\n",
       "      <td>BLACK PLASTIC</td>\n",
       "      <td>R5-3550H +GTX 1650-4GB +8GB +512GB PCIE SSD +1...</td>\n",
       "      <td>1Y</td>\n",
       "      <td>80990</td>\n",
       "    </tr>\n",
       "    <tr>\n",
       "      <th>2</th>\n",
       "      <td>Premium</td>\n",
       "      <td>TUF Gaming</td>\n",
       "      <td>FX705DT-AU016T</td>\n",
       "      <td>GUN METAL</td>\n",
       "      <td>R7-3750H +GTX 1650-4GB +8GB +512GB PCIE SSD +1...</td>\n",
       "      <td>1Y</td>\n",
       "      <td>94990</td>\n",
       "    </tr>\n",
       "    <tr>\n",
       "      <th>3</th>\n",
       "      <td>Platinum</td>\n",
       "      <td>ROG-Strix G</td>\n",
       "      <td>G531GT-BQ002T</td>\n",
       "      <td>BLACK W+LIGHTBAR</td>\n",
       "      <td>i5-9300H +GTX 1650-4GB +8GB +512GB PCIE SSD +1...</td>\n",
       "      <td>1Y</td>\n",
       "      <td>97990</td>\n",
       "    </tr>\n",
       "    <tr>\n",
       "      <th>4</th>\n",
       "      <td>Platinum</td>\n",
       "      <td>ROG-Strix G</td>\n",
       "      <td>G531GT-AL264T</td>\n",
       "      <td>1F-G Glacier Blue W+ Lightbar</td>\n",
       "      <td>i5-9300H +GTX1650-4GB +8GB +512GB PCIE SSD +15...</td>\n",
       "      <td>1Y</td>\n",
       "      <td>98990</td>\n",
       "    </tr>\n",
       "  </tbody>\n",
       "</table>\n",
       "</div>"
      ],
      "text/plain": [
       "   category       series       modelname                 colour&chassis  \\\n",
       "0   Premium   TUF Gaming  FX505DT-AL118T                      GUN METAL   \n",
       "1   Premium   TUF Gaming  FX705DT-AU092T                  BLACK PLASTIC   \n",
       "2   Premium   TUF Gaming  FX705DT-AU016T                      GUN METAL   \n",
       "3  Platinum  ROG-Strix G   G531GT-BQ002T               BLACK W+LIGHTBAR   \n",
       "4  Platinum  ROG-Strix G   G531GT-AL264T  1F-G Glacier Blue W+ Lightbar   \n",
       "\n",
       "                                         description warrenty    mrp  \n",
       "0  R5-3550H +GTX 1650-4GB +8GB +512GB PCIE SSD +1...       1Y  77990  \n",
       "1  R5-3550H +GTX 1650-4GB +8GB +512GB PCIE SSD +1...       1Y  80990  \n",
       "2  R7-3750H +GTX 1650-4GB +8GB +512GB PCIE SSD +1...       1Y  94990  \n",
       "3  i5-9300H +GTX 1650-4GB +8GB +512GB PCIE SSD +1...       1Y  97990  \n",
       "4  i5-9300H +GTX1650-4GB +8GB +512GB PCIE SSD +15...       1Y  98990  "
      ]
     },
     "execution_count": 8,
     "metadata": {},
     "output_type": "execute_result"
    }
   ],
   "source": [
    "new_asus_data.columns = new_asus_data.columns.str.lower()\n",
    "new_asus_data.head(5)"
   ]
  },
  {
   "cell_type": "markdown",
   "id": "767e2606",
   "metadata": {},
   "source": [
    "# Rename Columns"
   ]
  },
  {
   "cell_type": "code",
   "execution_count": 9,
   "id": "76ab4df3",
   "metadata": {},
   "outputs": [
    {
     "data": {
      "text/html": [
       "<div>\n",
       "<style scoped>\n",
       "    .dataframe tbody tr th:only-of-type {\n",
       "        vertical-align: middle;\n",
       "    }\n",
       "\n",
       "    .dataframe tbody tr th {\n",
       "        vertical-align: top;\n",
       "    }\n",
       "\n",
       "    .dataframe thead th {\n",
       "        text-align: right;\n",
       "    }\n",
       "</style>\n",
       "<table border=\"1\" class=\"dataframe\">\n",
       "  <thead>\n",
       "    <tr style=\"text-align: right;\">\n",
       "      <th></th>\n",
       "      <th>category</th>\n",
       "      <th>series</th>\n",
       "      <th>model</th>\n",
       "      <th>build</th>\n",
       "      <th>description</th>\n",
       "      <th>warrenty</th>\n",
       "      <th>price</th>\n",
       "    </tr>\n",
       "  </thead>\n",
       "  <tbody>\n",
       "    <tr>\n",
       "      <th>0</th>\n",
       "      <td>Premium</td>\n",
       "      <td>TUF Gaming</td>\n",
       "      <td>FX505DT-AL118T</td>\n",
       "      <td>GUN METAL</td>\n",
       "      <td>R5-3550H +GTX 1650-4GB +8GB +512GB PCIE SSD +1...</td>\n",
       "      <td>1Y</td>\n",
       "      <td>77990</td>\n",
       "    </tr>\n",
       "    <tr>\n",
       "      <th>1</th>\n",
       "      <td>Premium</td>\n",
       "      <td>TUF Gaming</td>\n",
       "      <td>FX705DT-AU092T</td>\n",
       "      <td>BLACK PLASTIC</td>\n",
       "      <td>R5-3550H +GTX 1650-4GB +8GB +512GB PCIE SSD +1...</td>\n",
       "      <td>1Y</td>\n",
       "      <td>80990</td>\n",
       "    </tr>\n",
       "    <tr>\n",
       "      <th>2</th>\n",
       "      <td>Premium</td>\n",
       "      <td>TUF Gaming</td>\n",
       "      <td>FX705DT-AU016T</td>\n",
       "      <td>GUN METAL</td>\n",
       "      <td>R7-3750H +GTX 1650-4GB +8GB +512GB PCIE SSD +1...</td>\n",
       "      <td>1Y</td>\n",
       "      <td>94990</td>\n",
       "    </tr>\n",
       "    <tr>\n",
       "      <th>3</th>\n",
       "      <td>Platinum</td>\n",
       "      <td>ROG-Strix G</td>\n",
       "      <td>G531GT-BQ002T</td>\n",
       "      <td>BLACK W+LIGHTBAR</td>\n",
       "      <td>i5-9300H +GTX 1650-4GB +8GB +512GB PCIE SSD +1...</td>\n",
       "      <td>1Y</td>\n",
       "      <td>97990</td>\n",
       "    </tr>\n",
       "    <tr>\n",
       "      <th>4</th>\n",
       "      <td>Platinum</td>\n",
       "      <td>ROG-Strix G</td>\n",
       "      <td>G531GT-AL264T</td>\n",
       "      <td>1F-G Glacier Blue W+ Lightbar</td>\n",
       "      <td>i5-9300H +GTX1650-4GB +8GB +512GB PCIE SSD +15...</td>\n",
       "      <td>1Y</td>\n",
       "      <td>98990</td>\n",
       "    </tr>\n",
       "  </tbody>\n",
       "</table>\n",
       "</div>"
      ],
      "text/plain": [
       "   category       series           model                          build  \\\n",
       "0   Premium   TUF Gaming  FX505DT-AL118T                      GUN METAL   \n",
       "1   Premium   TUF Gaming  FX705DT-AU092T                  BLACK PLASTIC   \n",
       "2   Premium   TUF Gaming  FX705DT-AU016T                      GUN METAL   \n",
       "3  Platinum  ROG-Strix G   G531GT-BQ002T               BLACK W+LIGHTBAR   \n",
       "4  Platinum  ROG-Strix G   G531GT-AL264T  1F-G Glacier Blue W+ Lightbar   \n",
       "\n",
       "                                         description warrenty  price  \n",
       "0  R5-3550H +GTX 1650-4GB +8GB +512GB PCIE SSD +1...       1Y  77990  \n",
       "1  R5-3550H +GTX 1650-4GB +8GB +512GB PCIE SSD +1...       1Y  80990  \n",
       "2  R7-3750H +GTX 1650-4GB +8GB +512GB PCIE SSD +1...       1Y  94990  \n",
       "3  i5-9300H +GTX 1650-4GB +8GB +512GB PCIE SSD +1...       1Y  97990  \n",
       "4  i5-9300H +GTX1650-4GB +8GB +512GB PCIE SSD +15...       1Y  98990  "
      ]
     },
     "execution_count": 9,
     "metadata": {},
     "output_type": "execute_result"
    }
   ],
   "source": [
    "df = new_asus_data.rename(columns= {\n",
    "    'mrp':'price','modelname':'model','colour&chassis':'build'\n",
    "})\n",
    "\n",
    "df.head(5)"
   ]
  },
  {
   "cell_type": "markdown",
   "id": "cc311a0a",
   "metadata": {},
   "source": [
    "# Sort data based on price"
   ]
  },
  {
   "cell_type": "code",
   "execution_count": 10,
   "id": "85256eb2",
   "metadata": {
    "scrolled": true
   },
   "outputs": [
    {
     "data": {
      "text/html": [
       "<div>\n",
       "<style scoped>\n",
       "    .dataframe tbody tr th:only-of-type {\n",
       "        vertical-align: middle;\n",
       "    }\n",
       "\n",
       "    .dataframe tbody tr th {\n",
       "        vertical-align: top;\n",
       "    }\n",
       "\n",
       "    .dataframe thead th {\n",
       "        text-align: right;\n",
       "    }\n",
       "</style>\n",
       "<table border=\"1\" class=\"dataframe\">\n",
       "  <thead>\n",
       "    <tr style=\"text-align: right;\">\n",
       "      <th></th>\n",
       "      <th>category</th>\n",
       "      <th>series</th>\n",
       "      <th>model</th>\n",
       "      <th>build</th>\n",
       "      <th>description</th>\n",
       "      <th>warrenty</th>\n",
       "      <th>price</th>\n",
       "    </tr>\n",
       "  </thead>\n",
       "  <tbody>\n",
       "    <tr>\n",
       "      <th>84</th>\n",
       "      <td>Premium</td>\n",
       "      <td>VivoBook Gaming</td>\n",
       "      <td>F560UD-BQ335T</td>\n",
       "      <td>BLACK</td>\n",
       "      <td>i5-8250U +GTX 1050-4GB +8GB +1TB SSHD(FireCuda...</td>\n",
       "      <td>1Y</td>\n",
       "      <td>64990</td>\n",
       "    </tr>\n",
       "    <tr>\n",
       "      <th>86</th>\n",
       "      <td>Premium</td>\n",
       "      <td>VivoBook Gaming</td>\n",
       "      <td>F570ZD-DM226T</td>\n",
       "      <td>BLACK</td>\n",
       "      <td>R5-2500U +GTX 1050-4GB +8GB +1TB HDD +15.6 FHD...</td>\n",
       "      <td>1Y</td>\n",
       "      <td>66990</td>\n",
       "    </tr>\n",
       "    <tr>\n",
       "      <th>85</th>\n",
       "      <td>Premium</td>\n",
       "      <td>TUF Gaming</td>\n",
       "      <td>FX505GD-BQ136T</td>\n",
       "      <td>BLACK PATTERN PLASTIC</td>\n",
       "      <td>i5-8300H +GTX 1050-4GB +8GB +1TB HDD +15.6'+60...</td>\n",
       "      <td>1Y</td>\n",
       "      <td>67990</td>\n",
       "    </tr>\n",
       "    <tr>\n",
       "      <th>5</th>\n",
       "      <td>Premium</td>\n",
       "      <td>TUF Gaming</td>\n",
       "      <td>FX505DY-BQ024T</td>\n",
       "      <td>BLACK PLASTIC</td>\n",
       "      <td>R5-3550H +RX560X-4GB +8GB +512GB PCIE SSD +15....</td>\n",
       "      <td>1Y</td>\n",
       "      <td>67990</td>\n",
       "    </tr>\n",
       "    <tr>\n",
       "      <th>83</th>\n",
       "      <td>Premium</td>\n",
       "      <td>VivoBook Gaming</td>\n",
       "      <td>F560UD-BQ237T</td>\n",
       "      <td>BLACK</td>\n",
       "      <td>15.6\"FHD IPS+I5-8250U+8GB+1TB Firecuda+GTX1050...</td>\n",
       "      <td>1Y</td>\n",
       "      <td>71990</td>\n",
       "    </tr>\n",
       "  </tbody>\n",
       "</table>\n",
       "</div>"
      ],
      "text/plain": [
       "   category           series           model                  build  \\\n",
       "84  Premium  VivoBook Gaming   F560UD-BQ335T                  BLACK   \n",
       "86  Premium  VivoBook Gaming   F570ZD-DM226T                  BLACK   \n",
       "85  Premium       TUF Gaming  FX505GD-BQ136T  BLACK PATTERN PLASTIC   \n",
       "5   Premium       TUF Gaming  FX505DY-BQ024T          BLACK PLASTIC   \n",
       "83  Premium  VivoBook Gaming   F560UD-BQ237T                  BLACK   \n",
       "\n",
       "                                          description warrenty  price  \n",
       "84  i5-8250U +GTX 1050-4GB +8GB +1TB SSHD(FireCuda...       1Y  64990  \n",
       "86  R5-2500U +GTX 1050-4GB +8GB +1TB HDD +15.6 FHD...       1Y  66990  \n",
       "85  i5-8300H +GTX 1050-4GB +8GB +1TB HDD +15.6'+60...       1Y  67990  \n",
       "5   R5-3550H +RX560X-4GB +8GB +512GB PCIE SSD +15....       1Y  67990  \n",
       "83  15.6\"FHD IPS+I5-8250U+8GB+1TB Firecuda+GTX1050...       1Y  71990  "
      ]
     },
     "execution_count": 10,
     "metadata": {},
     "output_type": "execute_result"
    }
   ],
   "source": [
    "sorted_byprice = df.sort_values(by='price')\n",
    "sorted_byprice.head(5)"
   ]
  },
  {
   "cell_type": "markdown",
   "id": "2f348458",
   "metadata": {},
   "source": [
    "# Analysis"
   ]
  },
  {
   "cell_type": "code",
   "execution_count": 11,
   "id": "82e120c7",
   "metadata": {},
   "outputs": [],
   "source": [
    "import matplotlib.pyplot as plt\n",
    "import seaborn as sns"
   ]
  },
  {
   "cell_type": "code",
   "execution_count": 12,
   "id": "ad379887",
   "metadata": {},
   "outputs": [
    {
     "name": "stderr",
     "output_type": "stream",
     "text": [
      "C:\\Users\\Lenovo\\anaconda3\\lib\\site-packages\\seaborn\\categorical.py:3717: UserWarning: The `factorplot` function has been renamed to `catplot`. The original name will be removed in a future release. Please update your code. Note that the default `kind` in `factorplot` (`'point'`) has changed `'strip'` in `catplot`.\n",
      "  warnings.warn(msg)\n",
      "C:\\Users\\Lenovo\\anaconda3\\lib\\site-packages\\seaborn\\_decorators.py:36: FutureWarning: Pass the following variable as a keyword arg: x. From version 0.12, the only valid positional argument will be `data`, and passing other arguments without an explicit keyword will result in an error or misinterpretation.\n",
      "  warnings.warn(\n"
     ]
    },
    {
     "data": {
      "text/plain": [
       "<seaborn.axisgrid.FacetGrid at 0x260603c3a00>"
      ]
     },
     "execution_count": 12,
     "metadata": {},
     "output_type": "execute_result"
    },
    {
     "data": {
      "image/png": "[encoded data removed]",
      "text/plain": [
       "<Figure size 360x360 with 1 Axes>"
      ]
     },
     "metadata": {
      "needs_background": "light"
     },
     "output_type": "display_data"
    }
   ],
   "source": [
    "sns.factorplot('category',data=df,kind='count')"
   ]
  },
  {
   "cell_type": "code",
   "execution_count": 13,
   "id": "e658e519",
   "metadata": {},
   "outputs": [
    {
     "name": "stderr",
     "output_type": "stream",
     "text": [
      "C:\\Users\\Lenovo\\anaconda3\\lib\\site-packages\\seaborn\\categorical.py:3717: UserWarning: The `factorplot` function has been renamed to `catplot`. The original name will be removed in a future release. Please update your code. Note that the default `kind` in `factorplot` (`'point'`) has changed `'strip'` in `catplot`.\n",
      "  warnings.warn(msg)\n",
      "C:\\Users\\Lenovo\\anaconda3\\lib\\site-packages\\seaborn\\_decorators.py:36: FutureWarning: Pass the following variable as a keyword arg: x. From version 0.12, the only valid positional argument will be `data`, and passing other arguments without an explicit keyword will result in an error or misinterpretation.\n",
      "  warnings.warn(\n"
     ]
    },
    {
     "data": {
      "text/plain": [
       "<seaborn.axisgrid.FacetGrid at 0x2606270ab50>"
      ]
     },
     "execution_count": 13,
     "metadata": {},
     "output_type": "execute_result"
    },
    {
     "data": {
      "image/png": "[encoded data removed]",
      "text/plain": [
       "<Figure size 360x360 with 1 Axes>"
      ]
     },
     "metadata": {
      "needs_background": "light"
     },
     "output_type": "display_data"
    }
   ],
   "source": [
    "### series plot\n",
    "sns.factorplot('series',data=df,kind='count')"
   ]
  },
  {
   "cell_type": "code",
   "execution_count": 14,
   "id": "1ccb64ee",
   "metadata": {},
   "outputs": [
    {
     "name": "stderr",
     "output_type": "stream",
     "text": [
      "C:\\Users\\Lenovo\\anaconda3\\lib\\site-packages\\seaborn\\categorical.py:3717: UserWarning: The `factorplot` function has been renamed to `catplot`. The original name will be removed in a future release. Please update your code. Note that the default `kind` in `factorplot` (`'point'`) has changed `'strip'` in `catplot`.\n",
      "  warnings.warn(msg)\n",
      "C:\\Users\\Lenovo\\anaconda3\\lib\\site-packages\\seaborn\\_decorators.py:36: FutureWarning: Pass the following variable as a keyword arg: x. From version 0.12, the only valid positional argument will be `data`, and passing other arguments without an explicit keyword will result in an error or misinterpretation.\n",
      "  warnings.warn(\n"
     ]
    },
    {
     "data": {
      "text/plain": [
       "<seaborn.axisgrid.FacetGrid at 0x2606270ad00>"
      ]
     },
     "execution_count": 14,
     "metadata": {},
     "output_type": "execute_result"
    },
    {
     "data": {
      "image/png": "[encoded data removed]",
      "text/plain": [
       "<Figure size 360x360 with 1 Axes>"
      ]
     },
     "metadata": {
      "needs_background": "light"
     },
     "output_type": "display_data"
    }
   ],
   "source": [
    "### model plot\n",
    "sns.factorplot('model',data=df,kind='count')"
   ]
  },
  {
   "cell_type": "code",
   "execution_count": 15,
   "id": "b5a56986",
   "metadata": {},
   "outputs": [
    {
     "name": "stderr",
     "output_type": "stream",
     "text": [
      "C:\\Users\\Lenovo\\anaconda3\\lib\\site-packages\\seaborn\\categorical.py:3717: UserWarning: The `factorplot` function has been renamed to `catplot`. The original name will be removed in a future release. Please update your code. Note that the default `kind` in `factorplot` (`'point'`) has changed `'strip'` in `catplot`.\n",
      "  warnings.warn(msg)\n",
      "C:\\Users\\Lenovo\\anaconda3\\lib\\site-packages\\seaborn\\_decorators.py:36: FutureWarning: Pass the following variable as a keyword arg: x. From version 0.12, the only valid positional argument will be `data`, and passing other arguments without an explicit keyword will result in an error or misinterpretation.\n",
      "  warnings.warn(\n"
     ]
    },
    {
     "data": {
      "text/plain": [
       "<seaborn.axisgrid.FacetGrid at 0x26062d2c970>"
      ]
     },
     "execution_count": 15,
     "metadata": {},
     "output_type": "execute_result"
    },
    {
     "data": {
      "image/png": "[encoded data removed]",
      "text/plain": [
       "<Figure size 360x360 with 1 Axes>"
      ]
     },
     "metadata": {
      "needs_background": "light"
     },
     "output_type": "display_data"
    }
   ],
   "source": [
    "### build plot\n",
    "sns.factorplot('build',data=df,kind='count')"
   ]
  },
  {
   "cell_type": "code",
   "execution_count": 16,
   "id": "24d1cf6d",
   "metadata": {},
   "outputs": [
    {
     "name": "stderr",
     "output_type": "stream",
     "text": [
      "C:\\Users\\Lenovo\\anaconda3\\lib\\site-packages\\seaborn\\categorical.py:3717: UserWarning: The `factorplot` function has been renamed to `catplot`. The original name will be removed in a future release. Please update your code. Note that the default `kind` in `factorplot` (`'point'`) has changed `'strip'` in `catplot`.\n",
      "  warnings.warn(msg)\n",
      "C:\\Users\\Lenovo\\anaconda3\\lib\\site-packages\\seaborn\\_decorators.py:36: FutureWarning: Pass the following variable as a keyword arg: x. From version 0.12, the only valid positional argument will be `data`, and passing other arguments without an explicit keyword will result in an error or misinterpretation.\n",
      "  warnings.warn(\n",
      "C:\\Users\\Lenovo\\anaconda3\\lib\\site-packages\\seaborn\\axisgrid.py:88: UserWarning: Tight layout not applied. The left and right margins cannot be made large enough to accommodate all axes decorations. \n",
      "  self._figure.tight_layout(*args, **kwargs)\n"
     ]
    },
    {
     "data": {
      "text/plain": [
       "<seaborn.axisgrid.FacetGrid at 0x26065dc4310>"
      ]
     },
     "execution_count": 16,
     "metadata": {},
     "output_type": "execute_result"
    },
    {
     "data": {
      "image/png": "[encoded data removed]",
      "text/plain": [
       "<Figure size 360x360 with 1 Axes>"
      ]
     },
     "metadata": {
      "needs_background": "light"
     },
     "output_type": "display_data"
    }
   ],
   "source": [
    "### description plot\n",
    "sns.factorplot('description',data=df,kind='count')"
   ]
  },
  {
   "cell_type": "code",
   "execution_count": 17,
   "id": "68f6c7bd",
   "metadata": {},
   "outputs": [
    {
     "name": "stderr",
     "output_type": "stream",
     "text": [
      "C:\\Users\\Lenovo\\anaconda3\\lib\\site-packages\\seaborn\\categorical.py:3717: UserWarning: The `factorplot` function has been renamed to `catplot`. The original name will be removed in a future release. Please update your code. Note that the default `kind` in `factorplot` (`'point'`) has changed `'strip'` in `catplot`.\n",
      "  warnings.warn(msg)\n",
      "C:\\Users\\Lenovo\\anaconda3\\lib\\site-packages\\seaborn\\_decorators.py:36: FutureWarning: Pass the following variable as a keyword arg: x. From version 0.12, the only valid positional argument will be `data`, and passing other arguments without an explicit keyword will result in an error or misinterpretation.\n",
      "  warnings.warn(\n"
     ]
    },
    {
     "data": {
      "text/plain": [
       "<seaborn.axisgrid.FacetGrid at 0x26066097e20>"
      ]
     },
     "execution_count": 17,
     "metadata": {},
     "output_type": "execute_result"
    },
    {
     "data": {
      "image/png": "[encoded data removed]",
      "text/plain": [
       "<Figure size 360x360 with 1 Axes>"
      ]
     },
     "metadata": {
      "needs_background": "light"
     },
     "output_type": "display_data"
    }
   ],
   "source": [
    "### warrenty plot\n",
    "sns.factorplot('warrenty',data=df,kind='count')"
   ]
  },
  {
   "cell_type": "code",
   "execution_count": 18,
   "id": "bd0450c4",
   "metadata": {},
   "outputs": [
    {
     "name": "stderr",
     "output_type": "stream",
     "text": [
      "C:\\Users\\Lenovo\\anaconda3\\lib\\site-packages\\seaborn\\categorical.py:3717: UserWarning: The `factorplot` function has been renamed to `catplot`. The original name will be removed in a future release. Please update your code. Note that the default `kind` in `factorplot` (`'point'`) has changed `'strip'` in `catplot`.\n",
      "  warnings.warn(msg)\n",
      "C:\\Users\\Lenovo\\anaconda3\\lib\\site-packages\\seaborn\\_decorators.py:36: FutureWarning: Pass the following variable as a keyword arg: x. From version 0.12, the only valid positional argument will be `data`, and passing other arguments without an explicit keyword will result in an error or misinterpretation.\n",
      "  warnings.warn(\n"
     ]
    },
    {
     "data": {
      "text/plain": [
       "<seaborn.axisgrid.FacetGrid at 0x260662559a0>"
      ]
     },
     "execution_count": 18,
     "metadata": {},
     "output_type": "execute_result"
    },
    {
     "data": {
      "image/png": "[encoded data removed]",
      "text/plain": [
       "<Figure size 360x360 with 1 Axes>"
      ]
     },
     "metadata": {
      "needs_background": "light"
     },
     "output_type": "display_data"
    }
   ],
   "source": [
    "### price plot\n",
    "sns.factorplot('price',data=df,kind='count')"
   ]
  },
  {
   "cell_type": "code",
   "execution_count": 19,
   "id": "d4b07777",
   "metadata": {},
   "outputs": [
    {
     "name": "stderr",
     "output_type": "stream",
     "text": [
      "C:\\Users\\Lenovo\\anaconda3\\lib\\site-packages\\seaborn\\categorical.py:3717: UserWarning: The `factorplot` function has been renamed to `catplot`. The original name will be removed in a future release. Please update your code. Note that the default `kind` in `factorplot` (`'point'`) has changed `'strip'` in `catplot`.\n",
      "  warnings.warn(msg)\n",
      "C:\\Users\\Lenovo\\anaconda3\\lib\\site-packages\\seaborn\\_decorators.py:36: FutureWarning: Pass the following variable as a keyword arg: x. From version 0.12, the only valid positional argument will be `data`, and passing other arguments without an explicit keyword will result in an error or misinterpretation.\n",
      "  warnings.warn(\n"
     ]
    },
    {
     "data": {
      "text/plain": [
       "<seaborn.axisgrid.FacetGrid at 0x260664df670>"
      ]
     },
     "execution_count": 19,
     "metadata": {},
     "output_type": "execute_result"
    },
    {
     "data": {
      "image/png": "[encoded data removed]",
      "text/plain": [
       "<Figure size 412.375x360 with 1 Axes>"
      ]
     },
     "metadata": {
      "needs_background": "light"
     },
     "output_type": "display_data"
    }
   ],
   "source": [
    "sns.factorplot('category',data=df,hue='warrenty',kind='count')"
   ]
  },
  {
   "cell_type": "code",
   "execution_count": 21,
   "id": "ed1e4472",
   "metadata": {},
   "outputs": [
    {
     "data": {
      "text/html": [
       "<div>\n",
       "<style scoped>\n",
       "    .dataframe tbody tr th:only-of-type {\n",
       "        vertical-align: middle;\n",
       "    }\n",
       "\n",
       "    .dataframe tbody tr th {\n",
       "        vertical-align: top;\n",
       "    }\n",
       "\n",
       "    .dataframe thead th {\n",
       "        text-align: right;\n",
       "    }\n",
       "</style>\n",
       "<table border=\"1\" class=\"dataframe\">\n",
       "  <thead>\n",
       "    <tr style=\"text-align: right;\">\n",
       "      <th></th>\n",
       "      <th>Unnamed: 0</th>\n",
       "      <th>Category</th>\n",
       "      <th>Series</th>\n",
       "      <th>ModelName</th>\n",
       "      <th>Colour&amp;Chassis</th>\n",
       "      <th>Description</th>\n",
       "      <th>Warrenty</th>\n",
       "      <th>MRP</th>\n",
       "    </tr>\n",
       "  </thead>\n",
       "  <tbody>\n",
       "    <tr>\n",
       "      <th>0</th>\n",
       "      <td>0</td>\n",
       "      <td>Premium</td>\n",
       "      <td>TUF Gaming</td>\n",
       "      <td>FX505DT-AL118T</td>\n",
       "      <td>GUN METAL</td>\n",
       "      <td>R5-3550H +GTX 1650-4GB +8GB +512GB PCIE SSD +1...</td>\n",
       "      <td>1Y</td>\n",
       "      <td>77990</td>\n",
       "    </tr>\n",
       "    <tr>\n",
       "      <th>1</th>\n",
       "      <td>1</td>\n",
       "      <td>Premium</td>\n",
       "      <td>TUF Gaming</td>\n",
       "      <td>FX705DT-AU092T</td>\n",
       "      <td>BLACK PLASTIC</td>\n",
       "      <td>R5-3550H +GTX 1650-4GB +8GB +512GB PCIE SSD +1...</td>\n",
       "      <td>1Y</td>\n",
       "      <td>80990</td>\n",
       "    </tr>\n",
       "    <tr>\n",
       "      <th>2</th>\n",
       "      <td>2</td>\n",
       "      <td>Premium</td>\n",
       "      <td>TUF Gaming</td>\n",
       "      <td>FX705DT-AU016T</td>\n",
       "      <td>GUN METAL</td>\n",
       "      <td>R7-3750H +GTX 1650-4GB +8GB +512GB PCIE SSD +1...</td>\n",
       "      <td>1Y</td>\n",
       "      <td>94990</td>\n",
       "    </tr>\n",
       "    <tr>\n",
       "      <th>3</th>\n",
       "      <td>3</td>\n",
       "      <td>Platinum</td>\n",
       "      <td>ROG-Strix G</td>\n",
       "      <td>G531GT-BQ002T</td>\n",
       "      <td>BLACK W+LIGHTBAR</td>\n",
       "      <td>i5-9300H +GTX 1650-4GB +8GB +512GB PCIE SSD +1...</td>\n",
       "      <td>1Y</td>\n",
       "      <td>97990</td>\n",
       "    </tr>\n",
       "    <tr>\n",
       "      <th>4</th>\n",
       "      <td>4</td>\n",
       "      <td>Platinum</td>\n",
       "      <td>ROG-Strix G</td>\n",
       "      <td>G531GT-AL264T</td>\n",
       "      <td>1F-G Glacier Blue W+ Lightbar</td>\n",
       "      <td>i5-9300H +GTX1650-4GB +8GB +512GB PCIE SSD +15...</td>\n",
       "      <td>1Y</td>\n",
       "      <td>98990</td>\n",
       "    </tr>\n",
       "    <tr>\n",
       "      <th>...</th>\n",
       "      <td>...</td>\n",
       "      <td>...</td>\n",
       "      <td>...</td>\n",
       "      <td>...</td>\n",
       "      <td>...</td>\n",
       "      <td>...</td>\n",
       "      <td>...</td>\n",
       "      <td>...</td>\n",
       "    </tr>\n",
       "    <tr>\n",
       "      <th>88</th>\n",
       "      <td>88</td>\n",
       "      <td>Premium</td>\n",
       "      <td>TUF A15</td>\n",
       "      <td>FA566IH-HN150TS</td>\n",
       "      <td>Fortress Gray</td>\n",
       "      <td>R5-4600H+ GTX1650 (6GB)+ 8G+ 1T HDD+256G SSD+ ...</td>\n",
       "      <td>1Y</td>\n",
       "      <td>96990</td>\n",
       "    </tr>\n",
       "    <tr>\n",
       "      <th>89</th>\n",
       "      <td>89</td>\n",
       "      <td>Premium</td>\n",
       "      <td>TUF A15</td>\n",
       "      <td>FA566II-HN230T</td>\n",
       "      <td>Fortress Gray</td>\n",
       "      <td>R5-4600H+ GTX1650Ti (6GB)+ 8G+ 1T HDD+512G SSD...</td>\n",
       "      <td>1Y</td>\n",
       "      <td>98990</td>\n",
       "    </tr>\n",
       "    <tr>\n",
       "      <th>90</th>\n",
       "      <td>90</td>\n",
       "      <td>Premium</td>\n",
       "      <td>TUF A15</td>\n",
       "      <td>FA566II-HN231T</td>\n",
       "      <td>Fortress Gray</td>\n",
       "      <td>R7-4800H+ GTX1650Ti (6GB)+ 8G+ 1T HDD+512G SSD...</td>\n",
       "      <td>1Y</td>\n",
       "      <td>110990</td>\n",
       "    </tr>\n",
       "    <tr>\n",
       "      <th>91</th>\n",
       "      <td>91</td>\n",
       "      <td>Premium</td>\n",
       "      <td>TUF A15</td>\n",
       "      <td>FA566IU-HN244T</td>\n",
       "      <td>Fortress Gray</td>\n",
       "      <td>R7-4800H+ GTX1660Ti (6GB)+ 8G+8G+ 1T HDD+512G ...</td>\n",
       "      <td>1Y</td>\n",
       "      <td>120990</td>\n",
       "    </tr>\n",
       "    <tr>\n",
       "      <th>92</th>\n",
       "      <td>92</td>\n",
       "      <td>Premium</td>\n",
       "      <td>TUF A15</td>\n",
       "      <td>FA566IU-HN246T</td>\n",
       "      <td>Fortress Gray</td>\n",
       "      <td>R7-4800H+ GTX1660Ti (6GB)+ 8G+8G+ 1T SSD+ 15.6...</td>\n",
       "      <td>1Y</td>\n",
       "      <td>128990</td>\n",
       "    </tr>\n",
       "  </tbody>\n",
       "</table>\n",
       "<p>93 rows × 8 columns</p>\n",
       "</div>"
      ],
      "text/plain": [
       "    Unnamed: 0  Category       Series        ModelName  \\\n",
       "0            0   Premium   TUF Gaming   FX505DT-AL118T   \n",
       "1            1   Premium   TUF Gaming   FX705DT-AU092T   \n",
       "2            2   Premium   TUF Gaming   FX705DT-AU016T   \n",
       "3            3  Platinum  ROG-Strix G    G531GT-BQ002T   \n",
       "4            4  Platinum  ROG-Strix G    G531GT-AL264T   \n",
       "..         ...       ...          ...              ...   \n",
       "88          88   Premium      TUF A15  FA566IH-HN150TS   \n",
       "89          89   Premium      TUF A15   FA566II-HN230T   \n",
       "90          90   Premium      TUF A15   FA566II-HN231T   \n",
       "91          91   Premium      TUF A15   FA566IU-HN244T   \n",
       "92          92   Premium      TUF A15   FA566IU-HN246T   \n",
       "\n",
       "                   Colour&Chassis  \\\n",
       "0                       GUN METAL   \n",
       "1                   BLACK PLASTIC   \n",
       "2                       GUN METAL   \n",
       "3                BLACK W+LIGHTBAR   \n",
       "4   1F-G Glacier Blue W+ Lightbar   \n",
       "..                            ...   \n",
       "88                  Fortress Gray   \n",
       "89                  Fortress Gray   \n",
       "90                  Fortress Gray   \n",
       "91                  Fortress Gray   \n",
       "92                  Fortress Gray   \n",
       "\n",
       "                                          Description Warrenty     MRP  \n",
       "0   R5-3550H +GTX 1650-4GB +8GB +512GB PCIE SSD +1...       1Y   77990  \n",
       "1   R5-3550H +GTX 1650-4GB +8GB +512GB PCIE SSD +1...       1Y   80990  \n",
       "2   R7-3750H +GTX 1650-4GB +8GB +512GB PCIE SSD +1...       1Y   94990  \n",
       "3   i5-9300H +GTX 1650-4GB +8GB +512GB PCIE SSD +1...       1Y   97990  \n",
       "4   i5-9300H +GTX1650-4GB +8GB +512GB PCIE SSD +15...       1Y   98990  \n",
       "..                                                ...      ...     ...  \n",
       "88  R5-4600H+ GTX1650 (6GB)+ 8G+ 1T HDD+256G SSD+ ...       1Y   96990  \n",
       "89  R5-4600H+ GTX1650Ti (6GB)+ 8G+ 1T HDD+512G SSD...       1Y   98990  \n",
       "90  R7-4800H+ GTX1650Ti (6GB)+ 8G+ 1T HDD+512G SSD...       1Y  110990  \n",
       "91  R7-4800H+ GTX1660Ti (6GB)+ 8G+8G+ 1T HDD+512G ...       1Y  120990  \n",
       "92  R7-4800H+ GTX1660Ti (6GB)+ 8G+8G+ 1T SSD+ 15.6...       1Y  128990  \n",
       "\n",
       "[93 rows x 8 columns]"
      ]
     },
     "execution_count": 21,
     "metadata": {},
     "output_type": "execute_result"
    }
   ],
   "source": [
    "import pandas as pd\n",
    "import matplotlib.pyplot as plt\n",
    "import numpy as np\n",
    "\n",
    "Asus_Laptops = pd.read_csv(\"AsusLaptops.csv\") \n",
    "\n",
    "Asus_Laptops"
   ]
  },
  {
   "cell_type": "code",
   "execution_count": 24,
   "id": "864ae723",
   "metadata": {},
   "outputs": [
    {
     "data": {
      "text/plain": [
       "Text(0, 0.5, 'Series')"
      ]
     },
     "execution_count": 24,
     "metadata": {},
     "output_type": "execute_result"
    },
    {
     "data": {
      "image/png": "[encoded data removed]",
      "text/plain": [
       "<Figure size 432x288 with 1 Axes>"
      ]
     },
     "metadata": {
      "needs_background": "light"
     },
     "output_type": "display_data"
    }
   ],
   "source": [
    "x = Asus_Laptops[\"MRP\"]\n",
    "y = Asus_Laptops[\"Series\"]\n",
    "\n",
    "plt.scatter(x, y)\n",
    "plt.xlabel(\"MRP\")\n",
    "plt.ylabel(\"Series\")"
   ]
  },
  {
   "cell_type": "code",
   "execution_count": 29,
   "id": "7f9e1bdd",
   "metadata": {},
   "outputs": [
    {
     "ename": "ValueError",
     "evalue": "could not convert string to float: 'TUF Gaming'",
     "output_type": "error",
     "traceback": [
      "\u001b[1;31m---------------------------------------------------------------------------\u001b[0m",
      "\u001b[1;31mValueError\u001b[0m                                Traceback (most recent call last)",
      "\u001b[1;32m~\\AppData\\Local\\Temp/ipykernel_24856/565063663.py\u001b[0m in \u001b[0;36m<module>\u001b[1;34m\u001b[0m\n\u001b[0;32m      5\u001b[0m \u001b[1;33m\u001b[0m\u001b[0m\n\u001b[0;32m      6\u001b[0m \u001b[0mlr_model\u001b[0m \u001b[1;33m=\u001b[0m \u001b[0mLinearRegression\u001b[0m\u001b[1;33m(\u001b[0m\u001b[1;33m)\u001b[0m\u001b[1;33m\u001b[0m\u001b[1;33m\u001b[0m\u001b[0m\n\u001b[1;32m----> 7\u001b[1;33m \u001b[0mlr_model\u001b[0m\u001b[1;33m.\u001b[0m\u001b[0mfit\u001b[0m\u001b[1;33m(\u001b[0m\u001b[0mx\u001b[0m\u001b[1;33m,\u001b[0m \u001b[0my\u001b[0m\u001b[1;33m)\u001b[0m\u001b[1;33m\u001b[0m\u001b[1;33m\u001b[0m\u001b[0m\n\u001b[0m\u001b[0;32m      8\u001b[0m \u001b[0my_pred\u001b[0m \u001b[1;33m=\u001b[0m \u001b[0mlr_model\u001b[0m\u001b[1;33m.\u001b[0m\u001b[0mpredict\u001b[0m\u001b[1;33m(\u001b[0m\u001b[0mx\u001b[0m\u001b[1;33m)\u001b[0m\u001b[1;33m\u001b[0m\u001b[1;33m\u001b[0m\u001b[0m\n\u001b[0;32m      9\u001b[0m \u001b[1;33m\u001b[0m\u001b[0m\n",
      "\u001b[1;32m~\\anaconda3\\lib\\site-packages\\sklearn\\linear_model\\_base.py\u001b[0m in \u001b[0;36mfit\u001b[1;34m(self, X, y, sample_weight)\u001b[0m\n\u001b[0;32m    516\u001b[0m         \u001b[0maccept_sparse\u001b[0m \u001b[1;33m=\u001b[0m \u001b[1;32mFalse\u001b[0m \u001b[1;32mif\u001b[0m \u001b[0mself\u001b[0m\u001b[1;33m.\u001b[0m\u001b[0mpositive\u001b[0m \u001b[1;32melse\u001b[0m \u001b[1;33m[\u001b[0m\u001b[1;34m'csr'\u001b[0m\u001b[1;33m,\u001b[0m \u001b[1;34m'csc'\u001b[0m\u001b[1;33m,\u001b[0m \u001b[1;34m'coo'\u001b[0m\u001b[1;33m]\u001b[0m\u001b[1;33m\u001b[0m\u001b[1;33m\u001b[0m\u001b[0m\n\u001b[0;32m    517\u001b[0m \u001b[1;33m\u001b[0m\u001b[0m\n\u001b[1;32m--> 518\u001b[1;33m         X, y = self._validate_data(X, y, accept_sparse=accept_sparse,\n\u001b[0m\u001b[0;32m    519\u001b[0m                                    y_numeric=True, multi_output=True)\n\u001b[0;32m    520\u001b[0m \u001b[1;33m\u001b[0m\u001b[0m\n",
      "\u001b[1;32m~\\anaconda3\\lib\\site-packages\\sklearn\\base.py\u001b[0m in \u001b[0;36m_validate_data\u001b[1;34m(self, X, y, reset, validate_separately, **check_params)\u001b[0m\n\u001b[0;32m    431\u001b[0m                 \u001b[0my\u001b[0m \u001b[1;33m=\u001b[0m \u001b[0mcheck_array\u001b[0m\u001b[1;33m(\u001b[0m\u001b[0my\u001b[0m\u001b[1;33m,\u001b[0m \u001b[1;33m**\u001b[0m\u001b[0mcheck_y_params\u001b[0m\u001b[1;33m)\u001b[0m\u001b[1;33m\u001b[0m\u001b[1;33m\u001b[0m\u001b[0m\n\u001b[0;32m    432\u001b[0m             \u001b[1;32melse\u001b[0m\u001b[1;33m:\u001b[0m\u001b[1;33m\u001b[0m\u001b[1;33m\u001b[0m\u001b[0m\n\u001b[1;32m--> 433\u001b[1;33m                 \u001b[0mX\u001b[0m\u001b[1;33m,\u001b[0m \u001b[0my\u001b[0m \u001b[1;33m=\u001b[0m \u001b[0mcheck_X_y\u001b[0m\u001b[1;33m(\u001b[0m\u001b[0mX\u001b[0m\u001b[1;33m,\u001b[0m \u001b[0my\u001b[0m\u001b[1;33m,\u001b[0m \u001b[1;33m**\u001b[0m\u001b[0mcheck_params\u001b[0m\u001b[1;33m)\u001b[0m\u001b[1;33m\u001b[0m\u001b[1;33m\u001b[0m\u001b[0m\n\u001b[0m\u001b[0;32m    434\u001b[0m             \u001b[0mout\u001b[0m \u001b[1;33m=\u001b[0m \u001b[0mX\u001b[0m\u001b[1;33m,\u001b[0m \u001b[0my\u001b[0m\u001b[1;33m\u001b[0m\u001b[1;33m\u001b[0m\u001b[0m\n\u001b[0;32m    435\u001b[0m \u001b[1;33m\u001b[0m\u001b[0m\n",
      "\u001b[1;32m~\\anaconda3\\lib\\site-packages\\sklearn\\utils\\validation.py\u001b[0m in \u001b[0;36minner_f\u001b[1;34m(*args, **kwargs)\u001b[0m\n\u001b[0;32m     61\u001b[0m             \u001b[0mextra_args\u001b[0m \u001b[1;33m=\u001b[0m \u001b[0mlen\u001b[0m\u001b[1;33m(\u001b[0m\u001b[0margs\u001b[0m\u001b[1;33m)\u001b[0m \u001b[1;33m-\u001b[0m \u001b[0mlen\u001b[0m\u001b[1;33m(\u001b[0m\u001b[0mall_args\u001b[0m\u001b[1;33m)\u001b[0m\u001b[1;33m\u001b[0m\u001b[1;33m\u001b[0m\u001b[0m\n\u001b[0;32m     62\u001b[0m             \u001b[1;32mif\u001b[0m \u001b[0mextra_args\u001b[0m \u001b[1;33m<=\u001b[0m \u001b[1;36m0\u001b[0m\u001b[1;33m:\u001b[0m\u001b[1;33m\u001b[0m\u001b[1;33m\u001b[0m\u001b[0m\n\u001b[1;32m---> 63\u001b[1;33m                 \u001b[1;32mreturn\u001b[0m \u001b[0mf\u001b[0m\u001b[1;33m(\u001b[0m\u001b[1;33m*\u001b[0m\u001b[0margs\u001b[0m\u001b[1;33m,\u001b[0m \u001b[1;33m**\u001b[0m\u001b[0mkwargs\u001b[0m\u001b[1;33m)\u001b[0m\u001b[1;33m\u001b[0m\u001b[1;33m\u001b[0m\u001b[0m\n\u001b[0m\u001b[0;32m     64\u001b[0m \u001b[1;33m\u001b[0m\u001b[0m\n\u001b[0;32m     65\u001b[0m             \u001b[1;31m# extra_args > 0\u001b[0m\u001b[1;33m\u001b[0m\u001b[1;33m\u001b[0m\u001b[0m\n",
      "\u001b[1;32m~\\anaconda3\\lib\\site-packages\\sklearn\\utils\\validation.py\u001b[0m in \u001b[0;36mcheck_X_y\u001b[1;34m(X, y, accept_sparse, accept_large_sparse, dtype, order, copy, force_all_finite, ensure_2d, allow_nd, multi_output, ensure_min_samples, ensure_min_features, y_numeric, estimator)\u001b[0m\n\u001b[0;32m    884\u001b[0m         \u001b[0m_assert_all_finite\u001b[0m\u001b[1;33m(\u001b[0m\u001b[0my\u001b[0m\u001b[1;33m)\u001b[0m\u001b[1;33m\u001b[0m\u001b[1;33m\u001b[0m\u001b[0m\n\u001b[0;32m    885\u001b[0m     \u001b[1;32mif\u001b[0m \u001b[0my_numeric\u001b[0m \u001b[1;32mand\u001b[0m \u001b[0my\u001b[0m\u001b[1;33m.\u001b[0m\u001b[0mdtype\u001b[0m\u001b[1;33m.\u001b[0m\u001b[0mkind\u001b[0m \u001b[1;33m==\u001b[0m \u001b[1;34m'O'\u001b[0m\u001b[1;33m:\u001b[0m\u001b[1;33m\u001b[0m\u001b[1;33m\u001b[0m\u001b[0m\n\u001b[1;32m--> 886\u001b[1;33m         \u001b[0my\u001b[0m \u001b[1;33m=\u001b[0m \u001b[0my\u001b[0m\u001b[1;33m.\u001b[0m\u001b[0mastype\u001b[0m\u001b[1;33m(\u001b[0m\u001b[0mnp\u001b[0m\u001b[1;33m.\u001b[0m\u001b[0mfloat64\u001b[0m\u001b[1;33m)\u001b[0m\u001b[1;33m\u001b[0m\u001b[1;33m\u001b[0m\u001b[0m\n\u001b[0m\u001b[0;32m    887\u001b[0m \u001b[1;33m\u001b[0m\u001b[0m\n\u001b[0;32m    888\u001b[0m     \u001b[0mcheck_consistent_length\u001b[0m\u001b[1;33m(\u001b[0m\u001b[0mX\u001b[0m\u001b[1;33m,\u001b[0m \u001b[0my\u001b[0m\u001b[1;33m)\u001b[0m\u001b[1;33m\u001b[0m\u001b[1;33m\u001b[0m\u001b[0m\n",
      "\u001b[1;31mValueError\u001b[0m: could not convert string to float: 'TUF Gaming'"
     ]
    }
   ],
   "source": [
    "from sklearn.linear_model import LinearRegression\n",
    "\n",
    "x = Asus_Laptops[\"MRP\"].values.reshape(-1,1)\n",
    "y = Asus_Laptops[\"Series\"]\n",
    "\n",
    "lr_model = LinearRegression()\n",
    "lr_model.fit(x, y)\n",
    "y_pred = lr_model.predict(x)\n",
    "\n",
    "plt.scatter(x, y)\n",
    "plt.xlabel(\"MRP\")\n",
    "plt.ylabel(\"Series\")\n",
    "\n",
    "plt.plot(x, y_pred)"
   ]
  },
  {
   "cell_type": "code",
   "execution_count": null,
   "id": "98fb2f80",
   "metadata": {},
   "outputs": [],
   "source": []
  }
 ],
 "metadata": {
  "kernelspec": {
   "display_name": "Python 3 (ipykernel)",
   "language": "python",
   "name": "python3"
  },
  "language_info": {
   "codemirror_mode": {
    "name": "ipython",
    "version": 3
   },
   "file_extension": ".py",
   "mimetype": "text/x-python",
   "name": "python",
   "nbconvert_exporter": "python",
   "pygments_lexer": "ipython3",
   "version": "3.9.7"
  }
 },
 "nbformat": 4,
 "nbformat_minor": 5
}
